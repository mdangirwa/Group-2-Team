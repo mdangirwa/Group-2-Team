{
 "cells": [
  {
   "cell_type": "markdown",
   "id": "fce5eed5",
   "metadata": {},
   "source": [
    "<img src=\"agri_image2.png\" alt=\"Sample Image\" width=\"900\" height=\"200\">"
   ]
  },
  {
   "cell_type": "markdown",
   "id": "25f43238",
   "metadata": {},
   "source": [
    "## Table of Contents\n",
    "\n",
    "<a href=#BC> Background Context</a>\n",
    "\n",
    "<a href=#one>1. Importing Packages</a>\n",
    "\n",
    "<a href=#two>2. Data Collection and Description</a>\n",
    "\n",
    "<a href=#three>3. Loading Data </a>\n",
    "\n",
    "<a href=#four>4. Data Cleaning and Filtering</a>\n",
    "\n",
    "<a href=#five>5. Exploratory Data Analysis (EDA)</a>\n",
    "\n",
    "<a href=#six>6. Modeling </a>\n",
    "\n",
    "<a href=#seven>7. Evaluation and Validation</a>\n",
    "\n",
    "<a href=#eight>8. Final Model</a>\n",
    "\n",
    "<a href=#nine>9. Conclusion and Future Work</a>"
   ]
  },
  {
   "cell_type": "markdown",
   "id": "c9f014ef",
   "metadata": {},
   "source": [
    "---\n",
    " <a id=\"BC\"></a>\n",
    "## **Background Context**\n",
    "<a href=#cont>Back to Table of Contents</a>\n",
    "\n",
    "* **Purpose:** Introduce the project, outline its goals, and explain its significance.\n",
    "* **Details:** Include information about the problem domain, the specific questions or challenges the project aims to address, and any relevant background information that sets the stage for the work.\n",
    "---"
   ]
  },
  {
   "cell_type": "markdown",
   "id": "96983b53",
   "metadata": {},
   "source": [
    "<a href=#one></a>\n",
    "## **Importing Packages**\n",
    "<a href=#cont>Back to Table of Contents</a>"
   ]
  },
  {
   "cell_type": "code",
   "execution_count": 5,
   "id": "bb078f27",
   "metadata": {},
   "outputs": [
    {
     "ename": "ImportError",
     "evalue": "cannot import name 'root_mean_squared_error' from 'sklearn.metrics' (C:\\ProgramData\\Anaconda3\\lib\\site-packages\\sklearn\\metrics\\__init__.py)",
     "output_type": "error",
     "traceback": [
      "\u001b[1;31m---------------------------------------------------------------------------\u001b[0m",
      "\u001b[1;31mImportError\u001b[0m                               Traceback (most recent call last)",
      "\u001b[1;32m~\\AppData\\Local\\Temp\\ipykernel_17792\\3620107181.py\u001b[0m in \u001b[0;36m<module>\u001b[1;34m\u001b[0m\n\u001b[0;32m     11\u001b[0m \u001b[1;32mfrom\u001b[0m \u001b[0mscipy\u001b[0m \u001b[1;32mimport\u001b[0m \u001b[0mstats\u001b[0m\u001b[1;33m\u001b[0m\u001b[1;33m\u001b[0m\u001b[0m\n\u001b[0;32m     12\u001b[0m \u001b[1;32mfrom\u001b[0m \u001b[0msklearn\u001b[0m\u001b[1;33m.\u001b[0m\u001b[0mimpute\u001b[0m \u001b[1;32mimport\u001b[0m \u001b[0mSimpleImputer\u001b[0m\u001b[1;33m\u001b[0m\u001b[1;33m\u001b[0m\u001b[0m\n\u001b[1;32m---> 13\u001b[1;33m \u001b[1;32mfrom\u001b[0m \u001b[0msklearn\u001b[0m\u001b[1;33m.\u001b[0m\u001b[0mmetrics\u001b[0m \u001b[1;32mimport\u001b[0m \u001b[0mroot_mean_squared_error\u001b[0m\u001b[1;33m\u001b[0m\u001b[1;33m\u001b[0m\u001b[0m\n\u001b[0m",
      "\u001b[1;31mImportError\u001b[0m: cannot import name 'root_mean_squared_error' from 'sklearn.metrics' (C:\\ProgramData\\Anaconda3\\lib\\site-packages\\sklearn\\metrics\\__init__.py)"
     ]
    }
   ],
   "source": [
    "import pandas as pd\n",
    "import numpy as np\n",
    "import matplotlib.pyplot as plt\n",
    "import seaborn as sns\n",
    "from sklearn.model_selection import train_test_split\n",
    "from sklearn.linear_model import LinearRegression\n",
    "from sklearn.tree import DecisionTreeRegressor\n",
    "from sklearn.ensemble import RandomForestRegressor\n",
    "from sklearn.metrics import mean_squared_error, r2_score\n",
    "from sklearn.preprocessing import StandardScaler   \n",
    "from scipy import stats\n",
    "from sklearn.impute import SimpleImputer\n",
    "from sklearn.metrics import root_mean_squared_error"
   ]
  },
  {
   "cell_type": "markdown",
   "id": "6c3ddae9",
   "metadata": {},
   "source": [
    "---\n",
    "<a href=#three></a>\n",
    "## **Loading Data**\n",
    "<a href=#cont>Back to Table of Contents</a>"
   ]
  },
  {
   "cell_type": "code",
   "execution_count": 6,
   "id": "e7ff5953",
   "metadata": {},
   "outputs": [
    {
     "data": {
      "text/html": [
       "<div>\n",
       "<style scoped>\n",
       "    .dataframe tbody tr th:only-of-type {\n",
       "        vertical-align: middle;\n",
       "    }\n",
       "\n",
       "    .dataframe tbody tr th {\n",
       "        vertical-align: top;\n",
       "    }\n",
       "\n",
       "    .dataframe thead th {\n",
       "        text-align: right;\n",
       "    }\n",
       "</style>\n",
       "<table border=\"1\" class=\"dataframe\">\n",
       "  <thead>\n",
       "    <tr style=\"text-align: right;\">\n",
       "      <th></th>\n",
       "      <th>Area</th>\n",
       "      <th>Year</th>\n",
       "      <th>Savanna fires</th>\n",
       "      <th>Forest fires</th>\n",
       "      <th>Crop Residues</th>\n",
       "      <th>Rice Cultivation</th>\n",
       "      <th>Drained organic soils (CO2)</th>\n",
       "      <th>Pesticides Manufacturing</th>\n",
       "      <th>Food Transport</th>\n",
       "      <th>Forestland</th>\n",
       "      <th>...</th>\n",
       "      <th>Manure Management</th>\n",
       "      <th>Fires in organic soils</th>\n",
       "      <th>Fires in humid tropical forests</th>\n",
       "      <th>On-farm energy use</th>\n",
       "      <th>Rural population</th>\n",
       "      <th>Urban population</th>\n",
       "      <th>Total Population - Male</th>\n",
       "      <th>Total Population - Female</th>\n",
       "      <th>total_emission</th>\n",
       "      <th>Average Temperature °C</th>\n",
       "    </tr>\n",
       "  </thead>\n",
       "  <tbody>\n",
       "    <tr>\n",
       "      <th>0</th>\n",
       "      <td>Afghanistan</td>\n",
       "      <td>1990</td>\n",
       "      <td>14.7237</td>\n",
       "      <td>0.0557</td>\n",
       "      <td>205.6077</td>\n",
       "      <td>686.00</td>\n",
       "      <td>0.0</td>\n",
       "      <td>11.807483</td>\n",
       "      <td>63.1152</td>\n",
       "      <td>-2388.803</td>\n",
       "      <td>...</td>\n",
       "      <td>319.1763</td>\n",
       "      <td>0.0</td>\n",
       "      <td>0.0</td>\n",
       "      <td>NaN</td>\n",
       "      <td>9655167.0</td>\n",
       "      <td>2593947.0</td>\n",
       "      <td>5348387.0</td>\n",
       "      <td>5346409.0</td>\n",
       "      <td>2198.963539</td>\n",
       "      <td>0.536167</td>\n",
       "    </tr>\n",
       "    <tr>\n",
       "      <th>1</th>\n",
       "      <td>Afghanistan</td>\n",
       "      <td>1991</td>\n",
       "      <td>14.7237</td>\n",
       "      <td>0.0557</td>\n",
       "      <td>209.4971</td>\n",
       "      <td>678.16</td>\n",
       "      <td>0.0</td>\n",
       "      <td>11.712073</td>\n",
       "      <td>61.2125</td>\n",
       "      <td>-2388.803</td>\n",
       "      <td>...</td>\n",
       "      <td>342.3079</td>\n",
       "      <td>0.0</td>\n",
       "      <td>0.0</td>\n",
       "      <td>NaN</td>\n",
       "      <td>10230490.0</td>\n",
       "      <td>2763167.0</td>\n",
       "      <td>5372959.0</td>\n",
       "      <td>5372208.0</td>\n",
       "      <td>2323.876629</td>\n",
       "      <td>0.020667</td>\n",
       "    </tr>\n",
       "    <tr>\n",
       "      <th>2</th>\n",
       "      <td>Afghanistan</td>\n",
       "      <td>1992</td>\n",
       "      <td>14.7237</td>\n",
       "      <td>0.0557</td>\n",
       "      <td>196.5341</td>\n",
       "      <td>686.00</td>\n",
       "      <td>0.0</td>\n",
       "      <td>11.712073</td>\n",
       "      <td>53.3170</td>\n",
       "      <td>-2388.803</td>\n",
       "      <td>...</td>\n",
       "      <td>349.1224</td>\n",
       "      <td>0.0</td>\n",
       "      <td>0.0</td>\n",
       "      <td>NaN</td>\n",
       "      <td>10995568.0</td>\n",
       "      <td>2985663.0</td>\n",
       "      <td>6028494.0</td>\n",
       "      <td>6028939.0</td>\n",
       "      <td>2356.304229</td>\n",
       "      <td>-0.259583</td>\n",
       "    </tr>\n",
       "    <tr>\n",
       "      <th>3</th>\n",
       "      <td>Afghanistan</td>\n",
       "      <td>1993</td>\n",
       "      <td>14.7237</td>\n",
       "      <td>0.0557</td>\n",
       "      <td>230.8175</td>\n",
       "      <td>686.00</td>\n",
       "      <td>0.0</td>\n",
       "      <td>11.712073</td>\n",
       "      <td>54.3617</td>\n",
       "      <td>-2388.803</td>\n",
       "      <td>...</td>\n",
       "      <td>352.2947</td>\n",
       "      <td>0.0</td>\n",
       "      <td>0.0</td>\n",
       "      <td>NaN</td>\n",
       "      <td>11858090.0</td>\n",
       "      <td>3237009.0</td>\n",
       "      <td>7003641.0</td>\n",
       "      <td>7000119.0</td>\n",
       "      <td>2368.470529</td>\n",
       "      <td>0.101917</td>\n",
       "    </tr>\n",
       "    <tr>\n",
       "      <th>4</th>\n",
       "      <td>Afghanistan</td>\n",
       "      <td>1994</td>\n",
       "      <td>14.7237</td>\n",
       "      <td>0.0557</td>\n",
       "      <td>242.0494</td>\n",
       "      <td>705.60</td>\n",
       "      <td>0.0</td>\n",
       "      <td>11.712073</td>\n",
       "      <td>53.9874</td>\n",
       "      <td>-2388.803</td>\n",
       "      <td>...</td>\n",
       "      <td>367.6784</td>\n",
       "      <td>0.0</td>\n",
       "      <td>0.0</td>\n",
       "      <td>NaN</td>\n",
       "      <td>12690115.0</td>\n",
       "      <td>3482604.0</td>\n",
       "      <td>7733458.0</td>\n",
       "      <td>7722096.0</td>\n",
       "      <td>2500.768729</td>\n",
       "      <td>0.372250</td>\n",
       "    </tr>\n",
       "  </tbody>\n",
       "</table>\n",
       "<p>5 rows × 31 columns</p>\n",
       "</div>"
      ],
      "text/plain": [
       "          Area  Year  Savanna fires  Forest fires  Crop Residues  \\\n",
       "0  Afghanistan  1990        14.7237        0.0557       205.6077   \n",
       "1  Afghanistan  1991        14.7237        0.0557       209.4971   \n",
       "2  Afghanistan  1992        14.7237        0.0557       196.5341   \n",
       "3  Afghanistan  1993        14.7237        0.0557       230.8175   \n",
       "4  Afghanistan  1994        14.7237        0.0557       242.0494   \n",
       "\n",
       "   Rice Cultivation  Drained organic soils (CO2)  Pesticides Manufacturing  \\\n",
       "0            686.00                          0.0                 11.807483   \n",
       "1            678.16                          0.0                 11.712073   \n",
       "2            686.00                          0.0                 11.712073   \n",
       "3            686.00                          0.0                 11.712073   \n",
       "4            705.60                          0.0                 11.712073   \n",
       "\n",
       "   Food Transport  Forestland  ...  Manure Management  Fires in organic soils  \\\n",
       "0         63.1152   -2388.803  ...           319.1763                     0.0   \n",
       "1         61.2125   -2388.803  ...           342.3079                     0.0   \n",
       "2         53.3170   -2388.803  ...           349.1224                     0.0   \n",
       "3         54.3617   -2388.803  ...           352.2947                     0.0   \n",
       "4         53.9874   -2388.803  ...           367.6784                     0.0   \n",
       "\n",
       "   Fires in humid tropical forests  On-farm energy use  Rural population  \\\n",
       "0                              0.0                 NaN         9655167.0   \n",
       "1                              0.0                 NaN        10230490.0   \n",
       "2                              0.0                 NaN        10995568.0   \n",
       "3                              0.0                 NaN        11858090.0   \n",
       "4                              0.0                 NaN        12690115.0   \n",
       "\n",
       "   Urban population  Total Population - Male  Total Population - Female  \\\n",
       "0         2593947.0                5348387.0                  5346409.0   \n",
       "1         2763167.0                5372959.0                  5372208.0   \n",
       "2         2985663.0                6028494.0                  6028939.0   \n",
       "3         3237009.0                7003641.0                  7000119.0   \n",
       "4         3482604.0                7733458.0                  7722096.0   \n",
       "\n",
       "   total_emission  Average Temperature °C  \n",
       "0     2198.963539                0.536167  \n",
       "1     2323.876629                0.020667  \n",
       "2     2356.304229               -0.259583  \n",
       "3     2368.470529                0.101917  \n",
       "4     2500.768729                0.372250  \n",
       "\n",
       "[5 rows x 31 columns]"
      ]
     },
     "execution_count": 6,
     "metadata": {},
     "output_type": "execute_result"
    }
   ],
   "source": [
    "#Importing the data\n",
    "df = pd.read_csv(\"co2_emissions_from_agri.csv\")\n",
    "#Show preview of data\n",
    "df.head()"
   ]
  },
  {
   "cell_type": "markdown",
   "id": "1662ca29",
   "metadata": {},
   "source": [
    "---\n",
    "<a href=#four></a>\n",
    "## **Data Cleaning and Filtering**\n",
    "<a href=#cont>Back to Table of Contents</a>"
   ]
  },
  {
   "cell_type": "code",
   "execution_count": 10,
   "id": "7c30db15",
   "metadata": {},
   "outputs": [
    {
     "name": "stderr",
     "output_type": "stream",
     "text": [
      "C:\\Users\\nb177106\\AppData\\Local\\Temp\\ipykernel_17792\\1698212665.py:2: FutureWarning: The default value of regex will change from True to False in a future version. In addition, single character regular expressions will *not* be treated as literal strings when regex=True.\n",
      "  df.columns = df.columns.str.strip().str.lower().str.replace(' ', '_').str.replace('(', '').str.replace(')', '')\n",
      "C:\\Users\\nb177106\\AppData\\Local\\Temp\\ipykernel_17792\\1698212665.py:2: FutureWarning: The default value of regex will change from True to False in a future version. In addition, single character regular expressions will *not* be treated as literal strings when regex=True.\n",
      "  df.columns = df.columns.str.strip().str.lower().str.replace(' ', '_').str.replace('(', '').str.replace(')', '')\n"
     ]
    }
   ],
   "source": [
    "# Standardize column names\n",
    "df.columns = df.columns.str.strip().str.lower().str.replace(' ', '_').str.replace('(', '').str.replace(')', '')"
   ]
  },
  {
   "cell_type": "code",
   "execution_count": 8,
   "id": "c966ea60",
   "metadata": {},
   "outputs": [],
   "source": [
    "# Convert year to integer\n",
    "df['year'] = df['year'].astype(int)\n",
    "\n",
    "# Convert population columns to integer\n",
    "population_columns = ['rural_population', 'urban_population', 'total_population_-_male', 'total_population_-_female']\n",
    "for column in population_columns:\n",
    "    df[column] = df[column].astype(int)\n"
   ]
  },
  {
   "cell_type": "code",
   "execution_count": 9,
   "id": "3f17e49a",
   "metadata": {},
   "outputs": [],
   "source": [
    "# Ensure each row is a unique country-year observation\n",
    "df.drop_duplicates(subset=['area', 'year'], inplace=True)"
   ]
  },
  {
   "cell_type": "code",
   "execution_count": null,
   "id": "c860d669",
   "metadata": {},
   "outputs": [],
   "source": [
    "# Fill missing values: 0 for numeric columns, 'Unknown' for object (text) columns\n",
    "for column in df.columns:\n",
    "    if df[column].dtype == 'object':\n",
    "        df[column] = df[column].fillna('Unknown')\n",
    "    else:\n",
    "        df[column] = df[column].fillna(0)"
   ]
  },
  {
   "cell_type": "markdown",
   "id": "dc70ec2c",
   "metadata": {},
   "source": [
    "---\n",
    "<a href=#five></a>\n",
    "## **Exploratory Data Analysis (EDA)**\n",
    "<a href=#cont>Back to Table of Contents</a>"
   ]
  },
  {
   "cell_type": "code",
   "execution_count": null,
   "id": "7328fde4",
   "metadata": {},
   "outputs": [],
   "source": [
    "# Top 25 countries with highest average total emissions\n",
    "avg_emissions = df.groupby('area')['total_emission'].mean().sort_values(ascending=False).head(25)\n",
    "plt.figure(figsize=(12, 8))\n",
    "sns.barplot(x=avg_emissions.values, y=avg_emissions.index, palette='viridis')\n",
    "plt.title('Top 25 Countries with Highest Average Total Emissions')\n",
    "plt.xlabel('Average Total Emissions')\n",
    "plt.ylabel('Country')\n",
    "plt.show()\n",
    "\n",
    "#Top 25 Countries by Average Emissions. Identify which countries contribute most to emissions on average"
   ]
  },
  {
   "cell_type": "code",
   "execution_count": null,
   "id": "a4514a82",
   "metadata": {},
   "outputs": [],
   "source": [
    "# Histograms for numerical columns\n",
    "\n",
    "# Select numeric columns\n",
    "numeric_columns = df.select_dtypes(include = \"number\").columns\n",
    "\n",
    "plt.figure(figsize = (15, 50))\n",
    "for i, col in enumerate(numeric_columns):\n",
    "    plt.subplot(len(numeric_columns) // 3 + 1, 3, i + 1)\n",
    "    sns.histplot(df[col], kde = True, color = 'blue')\n",
    "    plt.title(f'Histogram of {col}')\n",
    "plt.tight_layout()\n",
    "plt.show()"
   ]
  },
  {
   "cell_type": "markdown",
   "id": "1db070d5-24b1-4198-a361-8817ef31751f",
   "metadata": {},
   "source": [
    "#### Insights\n",
    "\n",
    "*Savanna fires*: The distribution shows the frequency and intensity of savanna fires across different regions and years. \n",
    "\n",
    "*Forest fires*: Similar to savanna fires, this plot reveals the distribution of forest fire emissions, highlighting regions or years with higher occurrences.\n",
    "\n",
    "*Rice Cultivation*: The plot for rice cultivation emissions shows how methane emissions are distributed, indicating common emission levels and outliers.\n",
    "\n",
    "*Drained organic soils (CO2)*: This plot helps understand the distribution of CO2 emissions from drained organic soils, showing typical emission levels and variability.\n",
    "\n",
    "*Forestland*: The distribution of forestland values, including negative values indicating deforestation, can be observed.\n",
    "\n",
    "*Net Forest conversion*: This plot shows the changes in forest area due to deforestation and afforestation, highlighting regions with significant changes.\n",
    "\n",
    "*Food Household Consumption*: The distribution of emissions from household food consumption, indicating common levels and variability. total_emission: This plot provides an overall view of total emissions, showing the distribution and identifying regions or years with exceptionally high or low emissions. \n",
    "\n",
    "*Average Temperature °C*: The distribution of average temperature increases, helping to understand the variability and common temperature changes across regions and years."
   ]
  },
  {
   "cell_type": "code",
   "execution_count": null,
   "id": "0f10f9fc",
   "metadata": {},
   "outputs": [],
   "source": [
    "# Selected countries\n",
    "selected_countries = ['China', 'China, mainland', 'Brazil', 'Indonesia', 'United States of America']\n",
    "\n",
    "# Plot total emissions over time\n",
    "plt.figure(figsize=(14, 7))\n",
    "for country in selected_countries:\n",
    "    country_data = df[df['area'] == country]\n",
    "    plt.plot(country_data['year'], country_data['total_emission'], label=country)\n",
    "\n",
    "plt.xlabel('year')\n",
    "plt.ylabel('Total Emissions')\n",
    "plt.title('Total Emissions Over Time by Country')\n",
    "plt.legend()\n",
    "plt.grid(True)\n",
    "plt.tight_layout()\n",
    "plt.show()"
   ]
  },
  {
   "cell_type": "code",
   "execution_count": null,
   "id": "c2b5fc7a-1a48-414f-bfe3-8654b0819be0",
   "metadata": {},
   "outputs": [],
   "source": [
    "# Calculate the temperature change for each country\n",
    "temperature_change = df.groupby('area')['average_temperature_°c'].agg(lambda x: x.max() - x.min()).reset_index()\n",
    "temperature_change.rename(columns={'average_temperature_°c': 'temperature_change'}, inplace=True)"
   ]
  },
  {
   "cell_type": "code",
   "execution_count": null,
   "id": "3e254e8b-1e3f-4369-a615-20f38422ee7f",
   "metadata": {},
   "outputs": [],
   "source": [
    "# Average temperature distribution over time\n",
    "plt.figure(figsize = (15, 6))\n",
    "sns.boxplot(x = \"year\", y = \"average_temperature_°c\", data = df, palette = \"viridis\")\n",
    "plt.title('Average temperature distribution by years')\n",
    "plt.xlabel('Year')\n",
    "plt.ylabel('Average Temperature (°C)')\n",
    "plt.xticks(rotation = 90)\n",
    "plt.tight_layout()\n",
    "plt.show()"
   ]
  },
  {
   "cell_type": "code",
   "execution_count": null,
   "id": "7163c9fc",
   "metadata": {},
   "outputs": [],
   "source": [
    "# Cell 6: Exploratory Data Analysis (EDA) - Summary statistics\n",
    "summary_stats = df.describe()\n",
    "print(\"Summary statistics:\\n\", summary_stats)\n"
   ]
  },
  {
   "cell_type": "code",
   "execution_count": null,
   "id": "936fbee9",
   "metadata": {},
   "outputs": [],
   "source": [
    "# Cell 9: EDA - Identify patterns (Total Emissions vs. Average Temperature)\n",
    "plt.figure(figsize=(12, 6))\n",
    "plt.scatter(df['average_temperature_°c'], df['total_emission'], c='blue', label='Area')\n",
    "plt.title('Total Emissions vs. Average Temperature')\n",
    "plt.xlabel('Average Temperature (°C)')\n",
    "plt.ylabel('Total Emissions')\n",
    "plt.legend(bbox_to_anchor=(1.05, 1), loc='upper left')\n",
    "plt.show()\n"
   ]
  },
  {
   "cell_type": "code",
   "execution_count": null,
   "id": "159795ae",
   "metadata": {},
   "outputs": [],
   "source": [
    "numeric_df = df.select_dtypes(include='number')\n",
    "plt.figure(figsize=(12, 8))\n",
    "sns.heatmap(numeric_df.corr(), annot=False, cmap='coolwarm')\n",
    "plt.title('Correlation Heatmap of Numerical Features')\n",
    "plt.tight_layout()\n",
    "plt.show()"
   ]
  },
  {
   "cell_type": "code",
   "execution_count": null,
   "id": "f26128df-f6ee-4292-9c4c-1878cbde966f",
   "metadata": {},
   "outputs": [],
   "source": [
    "print(\"Column names:\")\n",
    "print(df.columns)"
   ]
  },
  {
   "cell_type": "code",
   "execution_count": null,
   "id": "fe672381-8212-4a24-8c79-97a6a1a4b63e",
   "metadata": {},
   "outputs": [],
   "source": [
    "#Top Contributing Sectors to Emissions\n",
    "sector_columns = [\n",
    "    'Area', 'Year', 'Savanna fires', 'Forest fires', 'Crop Residues', 'Rice Cultivation',\n",
    "    'Drained organic soils (CO2)', 'Pesticides Manufacturing', 'Food Transport',\n",
    "    'Forestland', 'Net Forest conversion', 'Food Household Consumption',\n",
    "    'Food Retail', 'On-farm Electricity Use', 'Food Packaging',\n",
    "    'Agrifood Systems Waste Disposal', 'Food Processing', 'Fertilizers Manufacturing',\n",
    "    'IPPU', 'Manure applied to Soils', 'Manure left on Pasture', 'Manure Management',\n",
    "    'Fires in organic soils', 'Fires in humid tropical forests', 'On-farm energy use',\n",
    "    'Rural Population', 'Urban Population', 'Total Population - Male',\n",
    "    'Total Population - Female', 'Total Emission', 'Average Temperature (°C)'\n",
    "]\n",
    "total_emissions_by_sector = df[sector_columns].sum().sort_values(ascending=False)\n",
    "\n",
    "plt.figure(figsize=(14, 8))\n",
    "total_emissions_by_sector.plot(kind='bar')\n",
    "plt.title('Top Contributing Sectors to Emissions')\n",
    "plt.xlabel('Sector')\n",
    "plt.ylabel('Total Emissions')\n",
    "plt.xticks(rotation=90)\n",
    "plt.grid(True)\n",
    "plt.show()\n",
    "\n",
    "#reveals the dominant sources of emissions, such as Manure Management, Rice Cultivation, or Food Processing."
   ]
  },
  {
   "cell_type": "code",
   "execution_count": null,
   "id": "e8385208-e8a4-419d-9281-da6101aa461a",
   "metadata": {},
   "outputs": [],
   "source": [
    "#Relationship Between Population and Emissions\n",
    "plt.figure(figsize=(12, 6))\n",
    "sns.scatterplot(data=df, x='Total Population - Male', y='total_emission', label='Male Population')\n",
    "sns.scatterplot(data=df, x='Total Population - Female', y='total_emission', label='Female Population')\n",
    "plt.title('Relationship Between Population and Emissions')\n",
    "plt.xlabel('Population')\n",
    "plt.ylabel('Total Emissions')\n",
    "plt.legend()\n",
    "plt.grid(True)\n",
    "plt.show()\n",
    "\n",
    "#emissions are proportional to population or if some countries are more efficient"
   ]
  },
  {
   "cell_type": "code",
   "execution_count": null,
   "id": "7297ff9c-a97c-48ad-a210-0c889195c3e3",
   "metadata": {},
   "outputs": [],
   "source": [
    "# Generate correlation heatmap with smaller font sizes\n",
    "plt.figure(figsize=(14, 10))\n",
    "correlation_matrix = df.select_dtypes(include=[np.number]).corr()\n",
    "sns.heatmap(correlation_matrix, annot=True, cmap='coolwarm', fmt='.2f', annot_kws={\"size\": 8})\n",
    "plt.xticks(fontsize=8)\n",
    "plt.yticks(fontsize=8)\n",
    "plt.title('Correlation Heatmap of Numeric Features', fontsize=12)\n",
    "plt.show()\n",
    "\n",
    "#How total emissions and average temperature correlate with other variables like population, manure management, food transport, etc."
   ]
  },
  {
   "cell_type": "markdown",
   "id": "bca4902a",
   "metadata": {},
   "source": [
    "---\n",
    "<a href=#six></a>\n",
    "## **Modeling**\n",
    "<a href=#cont>Back to Table of Contents</a>"
   ]
  },
  {
   "cell_type": "markdown",
   "id": "82bce5f4-3e1c-4de9-96ce-9761758917e6",
   "metadata": {},
   "source": [
    "Linear"
   ]
  },
  {
   "cell_type": "code",
   "execution_count": null,
   "id": "b77e5e51-c251-4d31-85d5-d771c6b028f2",
   "metadata": {},
   "outputs": [],
   "source": [
    "import pandas as pd\n",
    "df = pd.read_csv('cleaned_co2_emissions_from_agri.csv')\n"
   ]
  },
  {
   "cell_type": "code",
   "execution_count": null,
   "id": "7285aef4-3df7-4a8f-9151-4314a1a99106",
   "metadata": {},
   "outputs": [],
   "source": [
    "X = df.drop(columns=['total_emission'])  # Features\n",
    "y = df['total_emission']  # Target"
   ]
  },
  {
   "cell_type": "code",
   "execution_count": null,
   "id": "2e55b368-666e-41ce-b88b-87e7446a911b",
   "metadata": {},
   "outputs": [],
   "source": [
    "from sklearn.preprocessing import OneHotEncoder\n",
    " \n",
    "categorical_cols = X.select_dtypes(include=['object']).columns\n",
    "X = pd.get_dummies(X, columns=categorical_cols, drop_first=True)"
   ]
  },
  {
   "cell_type": "code",
   "execution_count": null,
   "id": "8433c3fe-7e99-471b-bcdb-6e4b16fc87ab",
   "metadata": {},
   "outputs": [],
   "source": [
    "from sklearn.model_selection import train_test_split\n",
    " \n",
    "X_train, X_test, y_train, y_test = train_test_split(X, y, test_size=0.2, random_state=42)"
   ]
  },
  {
   "cell_type": "code",
   "execution_count": null,
   "id": "2e3fe943-82fe-4fc9-8765-61ec2b6dda32",
   "metadata": {},
   "outputs": [],
   "source": [
    "from sklearn.linear_model import LinearRegression\n",
    " \n",
    "model = LinearRegression()\n",
    "model.fit(X_train, y_train)"
   ]
  },
  {
   "cell_type": "code",
   "execution_count": null,
   "id": "d83f0f3b-f4b9-4119-bb32-6a28358e9950",
   "metadata": {},
   "outputs": [],
   "source": [
    "y_pred = model.predict(X_test)"
   ]
  },
  {
   "cell_type": "code",
   "execution_count": null,
   "id": "082a9019-b2db-4976-a646-6b5d62fdf4ee",
   "metadata": {},
   "outputs": [],
   "source": [
    "from sklearn.metrics import mean_squared_error, r2_score\n",
    "import numpy as np\n",
    " \n",
    "rmse = np.sqrt(mean_squared_error(y_test, y_pred))\n",
    "r2 = r2_score(y_test, y_pred)\n",
    " \n",
    "print(f\"RMSE: {rmse}, R²: {r2}\")"
   ]
  },
  {
   "cell_type": "code",
   "execution_count": null,
   "id": "9eb0000b",
   "metadata": {},
   "outputs": [],
   "source": [
    "from sklearn.metrics import mean_squared_error, r2_score\n",
    "\n",
    "# Encode categorical variables\n",
    "X = pd.get_dummies(X, drop_first=True)\n",
    "\n",
    "# Impute missing values\n",
    "imputer = SimpleImputer(strategy='mean')\n",
    "X = pd.DataFrame(imputer.fit_transform(X), columns=X.columns)\n",
    "\n",
    "# Train-test split\n",
    "X_train, X_test, y_train, y_test = train_test_split(X, y, test_size=0.2, random_state=42)\n",
    "\n",
    "# Train the model\n",
    "model = LinearRegression()\n",
    "model.fit(X_train, y_train)\n",
    "\n",
    "# Predict and evaluate\n",
    "y_pred = model.predict(X_test)\n",
    "rmse = np.sqrt(mean_squared_error(y_test, y_pred))\n",
    "r2 = r2_score(y_test, y_pred)\n",
    "\n",
    "print(f\"RMSE: {rmse}, R²: {r2}\")"
   ]
  },
  {
   "cell_type": "code",
   "execution_count": null,
   "id": "3a3e003e",
   "metadata": {},
   "outputs": [],
   "source": [
    "# Drop non-numeric (categorical) columns\n",
    "df_numeric = df.select_dtypes(include=['number'])\n",
    "\n",
    "# Compute the correlation matrix\n",
    "correlation_matrix = df_numeric.corr()\n",
    "\n",
    "# Identify features highly correlated with the target\n",
    "high_corr_features = correlation_matrix['total_emission'][correlation_matrix['total_emission'].abs() > 0.8].sort_values(ascending=False)\n",
    "\n",
    "# Display the results\n",
    "print(\"Features highly correlated with 'total_emission':\")\n",
    "print(high_corr_features)"
   ]
  },
  {
   "cell_type": "code",
   "execution_count": null,
   "id": "b267e956",
   "metadata": {},
   "outputs": [],
   "source": [
    "# Load the dataset\n",
    "df = pd.read_csv('cleaned_co2_emissions_from_agri.csv')\n",
    "\n",
    "# Drop features that are highly correlated with the target (correlation > 0.8)\n",
    "features_to_drop = [\n",
    "    'urban_population', 'agrifood_systems_waste_disposal', 'food_household_consumption',\n",
    "    'ippu', 'manure_applied_to_soils', 'food_packaging', 'crop_residues',\n",
    "    'total_population_-_female', 'total_population_-_male', 'fertilizers_manufacturing',\n",
    "    'food_processing', 'manure_management'\n",
    "]\n",
    "df = df.drop(columns=features_to_drop)\n",
    "\n",
    "# Define features and target\n",
    "X = df.drop(columns=['total_emission'])\n",
    "y = df['total_emission']\n",
    "\n",
    "# Encode categorical variables\n",
    "X = pd.get_dummies(X, drop_first=True)\n",
    "\n",
    "# Perform train-test split (80% train, 20% test)\n",
    "X_train, X_test, y_train, y_test = train_test_split(X, y, test_size=0.2, random_state=42)\n",
    "\n",
    "# Train the Linear Regression model\n",
    "linear_regressor = LinearRegression()\n",
    "linear_regressor.fit(X_train, y_train)\n",
    "\n",
    "# Make predictions\n",
    "y_pred_linear = linear_regressor.predict(X_test)\n",
    "\n",
    "# Evaluate the model\n",
    "rmse_linear = root_mean_squared_error(y_test, y_pred_linear)\n",
    "r2_linear = r2_score(y_test, y_pred_linear)\n",
    "\n",
    "print(f\"Linear Regression Model - RMSE: {rmse_linear}, R²: {r2_linear}\")\n"
   ]
  },
  {
   "cell_type": "code",
   "execution_count": null,
   "id": "ff01e2f6",
   "metadata": {},
   "outputs": [],
   "source": [
    "# Load the dataset\n",
    "df = pd.read_csv('cleaned_co2_emissions_from_agri.csv')\n",
    "\n",
    "# Use a single feature for visualization\n",
    "feature = 'average_temperature_°c'\n",
    "X = df[[feature]]\n",
    "y = df['total_emission']\n",
    "\n",
    "# Train the Linear Regression model\n",
    "model = LinearRegression()\n",
    "model.fit(X, y)\n",
    "\n",
    "# Predict values\n",
    "y_pred = model.predict(X)\n",
    "\n",
    "# Plot the data and the regression line\n",
    "plt.figure(figsize=(10, 6))\n",
    "plt.scatter(X, y, color='blue', label='Data points')\n",
    "plt.plot(X, y_pred, color='red', linewidth=2, label='Best-fit line')\n",
    "plt.xlabel(feature)\n",
    "plt.ylabel('Total Emission')\n",
    "plt.title('Linear Regression: Total Emission vs. Average Temperature')\n",
    "plt.legend()\n",
    "plt.grid(True)\n",
    "plt.show()"
   ]
  },
  {
   "cell_type": "markdown",
   "id": "a75a9d0a-f923-484e-8e66-115f2643258f",
   "metadata": {},
   "source": []
  },
  {
   "cell_type": "markdown",
   "id": "d8654336-daa2-4896-9e74-e82edd127b78",
   "metadata": {},
   "source": [
    "Lasso"
   ]
  },
  {
   "cell_type": "code",
   "execution_count": null,
   "id": "ed41daeb",
   "metadata": {},
   "outputs": [],
   "source": [
    "import pandas as pd\n",
    "import numpy as np\n",
    "import matplotlib.pyplot as plt\n",
    "from sklearn.model_selection import train_test_split\n",
    "from sklearn.linear_model import Lasso\n",
    "from sklearn.metrics import mean_squared_error, r2_score\n",
    "\n",
    "# Load the dataset\n",
    "file_name = \"co2_emissions_from_agri.csv\"\n",
    "df = pd.read_csv(file_name)\n",
    "\n",
    "# Clean column names\n",
    "df.columns = df.columns.str.strip().str.lower().str.replace(' ', '_').str.replace('(', '').str.replace(')', '')\n",
    "\n",
    "# Convert all columns to numeric where possible\n",
    "df = df.apply(pd.to_numeric, errors='coerce')\n",
    "\n",
    "# Drop non-numeric and irrelevant columns\n",
    "df = df.drop(columns=['area', 'year'])\n",
    "\n",
    "# Fill missing values with 0\n",
    "df = df.fillna(0)\n",
    "\n",
    "# Define features and target\n",
    "target = 'total_emission'\n",
    "X = df.drop(columns=[target])\n",
    "y = df[target]\n",
    "\n",
    "# Split the data\n",
    "X_train, X_test, y_train, y_test = train_test_split(X, y, test_size=0.2, random_state=42)\n",
    "\n",
    "# Initialize and train Lasso model\n",
    "lasso = Lasso(alpha=1.0)\n",
    "lasso.fit(X_train, y_train)\n",
    "\n",
    "# Predict and evaluate\n",
    "y_pred = lasso.predict(X_test)\n",
    "mse = mean_squared_error(y_test, y_pred)\n",
    "r2 = r2_score(y_test, y_pred)\n",
    "\n",
    "print(f\"Mean Squared Error: {mse}\")\n",
    "print(f\"R² Score: {r2}\")\n",
    "\n",
    "# Display feature coefficients\n",
    "coefficients = pd.Series(lasso.coef_, index=X.columns)\n",
    "non_zero_coefficients = coefficients[coefficients != 0]\n",
    "\n",
    "# Plot the non-zero coefficients\n",
    "plt.figure(figsize=(10, 8))\n",
    "non_zero_coefficients.sort_values().plot(kind='barh')\n",
    "plt.title('Lasso Regression Feature Coefficients')\n",
    "plt.xlabel('Coefficient Value')\n",
    "plt.ylabel('Feature')\n",
    "plt.grid(True)\n",
    "plt.tight_layout()\n",
    "plt.show()"
   ]
  },
  {
   "cell_type": "code",
   "execution_count": null,
   "id": "a7f79538-4c5f-4023-80eb-06226837a4ee",
   "metadata": {},
   "outputs": [],
   "source": [
    "# Assuming you have a model and predictions\n",
    "residuals = observed_values - predicted_values"
   ]
  },
  {
   "cell_type": "code",
   "execution_count": null,
   "id": "d377bf30",
   "metadata": {},
   "outputs": [],
   "source": [
    "# The plot shows the residuals on the y-axis and the predicted values on the x-axis. \n",
    "# The red dashed line represents the zero residual line. \n",
    "# Ideally, the residuals should be randomly scattered around this line, indicating a good fit of the model.\n",
    "\n",
    "import pandas as pd\n",
    "import matplotlib.pyplot as plt\n",
    "\n",
    "# Load the data from the CSV file\n",
    "file_path = 'co2_emissions_from_agri.csv'\n",
    "data = pd.read_csv(file_path)\n",
    "\n",
    "# Display the first few rows of the dataset to understand its structure\n",
    "print(data.head())\n",
    "\n",
    "# Assuming 'total_emission' as observed values and 'Average Temperature °C' as predicted values for demonstration\n",
    "data['Observed'] = data['total_emission']\n",
    "data['Predicted'] = data['Average Temperature °C']\n",
    "\n",
    "# Calculate the residuals (observed - predicted)\n",
    "data['Residual'] = data['Observed'] - data['Predicted']\n",
    "\n",
    "# Create a residual plot\n",
    "plt.figure(figsize=(10, 6))\n",
    "plt.scatter(data['Predicted'], data['Residual'], alpha=0.5)\n",
    "plt.axhline(y=0, color='r', linestyle='--')\n",
    "plt.xlabel('Predicted Values')\n",
    "plt.ylabel('Residuals')\n",
    "plt.title('Residual Plot')\n",
    "plt.show()\n",
    "\n"
   ]
  },
  {
   "cell_type": "code",
   "execution_count": null,
   "id": "5304f188",
   "metadata": {},
   "outputs": [],
   "source": [
    "# 1. Check for Patterns: In a good model, residuals should be randomly distributed around zero. \n",
    "# Patterns or trends in the residual plot indicate potential issues with the model.\n",
    "\n",
    "# 2. Normality of Residuals: Check if residuals are normally distributed using a histogram or a Q-Q plot.\n",
    "\n",
    "import scipy.stats as stats\n",
    "\n",
    "plt.figure(figsize=(10, 6))\n",
    "stats.probplot(residuals, dist=\"norm\", plot=plt)\n",
    "plt.title('Q-Q Plot')\n",
    "plt.show()"
   ]
  },
  {
   "cell_type": "code",
   "execution_count": null,
   "id": "b0836506",
   "metadata": {},
   "outputs": [],
   "source": [
    "# Decision Tree Regression Example: to test your data and perform residual analysis.\n",
    "\n",
    "import pandas as pd\n",
    "import matplotlib.pyplot as plt\n",
    "import numpy as np\n",
    "from sklearn.tree import DecisionTreeRegressor\n",
    "\n",
    "# Load the data from the CSV file\n",
    "file_path = 'co2_emissions_from_agri.csv'\n",
    "data = pd.read_csv(file_path)\n",
    "\n",
    "# Display the first few rows of the dataset to understand its structure\n",
    "print(data.head())\n",
    "\n",
    "# Define the predictor (independent) variable and the response (dependent) variable\n",
    "X = data[['Year']]  # Predictor variable\n",
    "y = data['total_emission']  # Response variable\n",
    "\n",
    "# Create and fit the Decision Tree Regression model\n",
    "model = DecisionTreeRegressor()\n",
    "model.fit(X, y)\n",
    "\n",
    "# Predict the values using the model\n",
    "predicted_values = model.predict(X)\n",
    "\n",
    "# Calculate the residuals (differences between observed and predicted values)\n",
    "residuals = y - predicted_values\n",
    "\n",
    "# Create a residual plot to visualize the residuals\n",
    "plt.scatter(predicted_values, residuals)\n",
    "plt.axhline(y=0, color='r', linestyle='--')\n",
    "plt.xlabel('Predicted Values')\n",
    "plt.ylabel('Residuals')\n",
    "plt.title('Residual Plot')\n",
    "plt.show()\n",
    "\n",
    "# Print the observed values, predicted values, and residuals for verification\n",
    "observed_predicted_residuals = pd.DataFrame({\n",
    "    'Year': data['Year'],\n",
    "    'Observed Values': y,\n",
    "    'Predicted Values': predicted_values,\n",
    "    'Residuals': residuals\n",
    "})\n",
    "\n",
    "print(observed_predicted_residuals.head())\n",
    "\n"
   ]
  },
  {
   "cell_type": "markdown",
   "id": "ce0c3a9c-6f97-41d3-9d59-8872855b5e22",
   "metadata": {},
   "source": [
    "### Random Forest Regressor"
   ]
  },
  {
   "cell_type": "code",
   "execution_count": null,
   "id": "7e537579-7a5d-4943-bd45-73483855c548",
   "metadata": {},
   "outputs": [],
   "source": [
    "df.head()"
   ]
  },
  {
   "cell_type": "code",
   "execution_count": null,
   "id": "86dc593e-8e43-43c3-90ac-92827ec9419c",
   "metadata": {},
   "outputs": [],
   "source": [
    "# Extract features and target variable\n",
    "\n",
    "y = df['average_temperature_°c']\n",
    "x = df.drop(columns = ['average_temperature_°c', 'Area'], axis = 1)"
   ]
  },
  {
   "cell_type": "code",
   "execution_count": null,
   "id": "c5aeef09-86df-4b3b-a341-8be536ea0314",
   "metadata": {},
   "outputs": [],
   "source": [
    "# Create scaler object\n",
    "\n",
    "scaler = StandardScaler()"
   ]
  },
  {
   "cell_type": "code",
   "execution_count": null,
   "id": "d430fc13-1b2c-48e3-9c4e-b7f0c8e7c439",
   "metadata": {},
   "outputs": [],
   "source": [
    "# Create scaled version of the predictors\n",
    "\n",
    "x_scaled = scaler.fit_transform(x)"
   ]
  },
  {
   "cell_type": "code",
   "execution_count": null,
   "id": "464b0e7b-bcab-4150-a3ed-71d52c49cad0",
   "metadata": {},
   "outputs": [],
   "source": [
    "# Convert the scaled predictor values into a DataFrame\n",
    "\n",
    "x_standardised = pd.DataFrame(x_scaled, columns = x.columns)\n",
    "x_standardised.head()"
   ]
  },
  {
   "cell_type": "code",
   "execution_count": null,
   "id": "039fc69e-14f4-40ff-9486-d32145d5066a",
   "metadata": {},
   "outputs": [],
   "source": [
    "# Define the reduced set of independent variables\n",
    "x_reduced = x_standardised[['Year', 'Net Forest conversion', 'On-farm energy use', 'Manure Management',\n",
    "                            'Drained organic soils (CO2)', 'Fertilizers Manufacturing', 'Rural population',\n",
    "                            'Food Transport', 'Manure left on Pasture', 'Manure applied to Soils',\n",
    "                            'Rice Cultivation', 'On-farm energy use', 'Crop Residues']]"
   ]
  },
  {
   "cell_type": "code",
   "execution_count": null,
   "id": "e740d58d-1077-40da-a5b8-0afa25fbd107",
   "metadata": {},
   "outputs": [],
   "source": [
    "# Split the data into training and testing sets\n",
    "\n",
    "x_train, x_test, y_train, y_test = train_test_split(x_reduced, y, test_size = 0.2, random_state = 42)\n",
    "x_train.shape, x_test.shape, y_train.shape, y_test.shape"
   ]
  },
  {
   "cell_type": "code",
   "execution_count": null,
   "id": "d45a0af8-a266-43c4-aeeb-48b08de432c8",
   "metadata": {},
   "outputs": [],
   "source": [
    "# Train the model\n",
    "model_rf = RandomForestRegressor(random_state = 42).fit(x_train, y_train)\n",
    "\n",
    "# Make predictions\n",
    "y_pred_rf = model_rf.predict(x_test)\n",
    "\n",
    "# Evaluate the model\n",
    "mae_rf = mean_absolute_error(y_test, y_pred_rf)\n",
    "rmse_rf = np.sqrt(mean_squared_error(y_test, y_pred_rf))\n",
    "r2_rf = r2_score(y_test, y_pred_rf)"
   ]
  },
  {
   "cell_type": "code",
   "execution_count": null,
   "id": "f4604105-f316-4ad6-b971-ad9770a2bf0b",
   "metadata": {},
   "outputs": [],
   "source": [
    "# print model results\n",
    "\n",
    "print(f'MAE: {mae_rf} \\nRMSE: {rmse_rf} \\nR²: {r2_rf}')"
   ]
  },
  {
   "cell_type": "code",
   "execution_count": null,
   "id": "761bf9df-a85f-4dc1-b645-cf6d7b507f92",
   "metadata": {},
   "outputs": [],
   "source": [
    "# Calculate residuals\n",
    "residuals = y_test - y_pred_rf\n",
    "\n",
    "# Create subplots\n",
    "fig, axes = plt.subplots(1, 3, figsize = (18, 6))\n",
    "\n",
    "# 1. Actual vs Predicted Values\n",
    "sns.scatterplot(x = y_test, y = y_pred_rf, ax = axes[0], color = 'blue')\n",
    "axes[0].plot([y_test.min(), y_test.max()], [y_test.min(), y_test.max()], color = 'red', linestyle = '--')   \n",
    "axes[0].set_title('Actual vs Predicted')\n",
    "axes[0].set_xlabel('Actual Values')\n",
    "axes[0].set_ylabel('Predicted Values')\n",
    "\n",
    "# 2. Residual Plot\n",
    "sns.scatterplot(x = y_pred_rf, y = residuals, ax = axes[1], color = 'blue')\n",
    "axes[1].axhline(0, color = 'red', linestyle = '--')\n",
    "axes[1].set_title('Residual Plot')\n",
    "axes[1].set_xlabel('Predicted Values')\n",
    "axes[1].set_ylabel('Residuals')\n",
    "\n",
    "# 3. Q-Q Plot\n",
    "stats.probplot(residuals, dist = \"norm\", plot = axes[2])\n",
    "axes[2].set_title('Q-Q Plot')\n",
    "\n",
    "# Adjust layout\n",
    "plt.tight_layout()\n",
    "plt.show()"
   ]
  },
  {
   "cell_type": "markdown",
   "id": "56bac6ea",
   "metadata": {},
   "source": [
    "---\n",
    "<a href=#nine></a>\n",
    "## **Conclusion**\n",
    "<a href=#cont>Back to Table of Contents</a>"
   ]
  },
  {
   "cell_type": "code",
   "execution_count": null,
   "id": "31a39687",
   "metadata": {},
   "outputs": [],
   "source": []
  },
  {
   "cell_type": "code",
   "execution_count": null,
   "id": "a06027ff",
   "metadata": {},
   "outputs": [],
   "source": []
  },
  {
   "cell_type": "code",
   "execution_count": null,
   "id": "ce901d97",
   "metadata": {},
   "outputs": [],
   "source": []
  }
 ],
 "metadata": {
  "kernelspec": {
   "display_name": "Python 3 (ipykernel)",
   "language": "python",
   "name": "python3"
  },
  "language_info": {
   "codemirror_mode": {
    "name": "ipython",
    "version": 3
   },
   "file_extension": ".py",
   "mimetype": "text/x-python",
   "name": "python",
   "nbconvert_exporter": "python",
   "pygments_lexer": "ipython3",
   "version": "3.9.13"
  }
 },
 "nbformat": 4,
 "nbformat_minor": 5
}
