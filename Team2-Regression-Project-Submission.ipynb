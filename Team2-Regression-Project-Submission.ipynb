{
 "cells": [
  {
   "cell_type": "markdown",
   "id": "f7651956-4dda-433c-94b0-61e905eccbcb",
   "metadata": {},
   "source": [
    "<img src=\"agri_image2.png\" alt=\"Sample Image\" width=\"900\" height=\"200\">"
   ]
  },
  {
   "cell_type": "markdown",
   "id": "ad345124-5551-40c1-b186-817391d6cf51",
   "metadata": {},
   "source": [
    "## Table of Contents\n",
    "\n",
    "<a href=#BC> Background Context</a>\n",
    "\n",
    "<a href=#one>1. Importing Packages</a>\n",
    "\n",
    "<a href=#two>2. Data Collection and Description</a>\n",
    "\n",
    "<a href=#three>3. Loading Data </a>\n",
    "\n",
    "<a href=#four>4. Data Cleaning and Filtering</a>\n",
    "\n",
    "<a href=#five>5. Exploratory Data Analysis (EDA)</a>\n",
    "\n",
    "<a href=#six>6. Modeling </a>\n",
    "\n",
    "<a href=#seven>7. Evaluation and Validation</a>\n",
    "\n",
    "<a href=#eight>8. Final Model</a>\n",
    "\n",
    "<a href=#nine>9. Conclusion and Future Work</a>"
   ]
  },
  {
   "cell_type": "markdown",
   "id": "69c3e011-3ec1-4e55-990b-ce65465952ad",
   "metadata": {},
   "source": [
    "---\n",
    " <a id=\"BC\"></a>\n",
    "## **Background Context**\n",
    "<a href=#cont>Back to Table of Contents</a>\n",
    "\n",
    "* **Purpose:** Introduce the project, outline its goals, and explain its significance.\n",
    "* **Details:** Include information about the problem domain, the specific questions or challenges the project aims to address, and any relevant background information that sets the stage for the work.\n",
    "---"
   ]
  },
  {
   "cell_type": "markdown",
   "id": "e2a5b8bd-7cca-486c-83e2-b41aa9c2437f",
   "metadata": {},
   "source": [
    "<a href=#one></a>\n",
    "## **Importing Packages**\n",
    "<a href=#cont>Back to Table of Contents</a>"
   ]
  },
  {
   "cell_type": "code",
   "execution_count": 1,
   "id": "53fbe58e-06a4-4624-a36a-2dd56fc97bb8",
   "metadata": {},
   "outputs": [],
   "source": [
    "import pandas as pd\n",
    "import numpy as np\n",
    "import matplotlib.pyplot as plt\n",
    "import seaborn as sns\n",
    "from sklearn.model_selection import train_test_split\n",
    "from sklearn.linear_model import LinearRegression\n",
    "from sklearn.tree import DecisionTreeRegressor\n",
    "from sklearn.ensemble import RandomForestRegressor\n",
    "from sklearn.metrics import mean_squared_error, r2_score"
   ]
  },
  {
   "cell_type": "markdown",
   "id": "f13a2fb2-f9a2-4a3c-b3db-6fdcf91cbb3c",
   "metadata": {},
   "source": [
    "---\n",
    "<a href=#three></a>\n",
    "## **Loading Data**\n",
    "<a href=#cont>Back to Table of Contents</a>"
   ]
  },
  {
   "cell_type": "code",
   "execution_count": 2,
   "id": "63f79653-040b-4e54-a678-fda349269e1f",
   "metadata": {},
   "outputs": [],
   "source": [
    "df = pd.read_csv(\"co2_emissions_from_agri.csv\")"
   ]
  },
  {
   "cell_type": "markdown",
   "id": "e04c6a41-67a4-4a9b-a61d-465696c3b529",
   "metadata": {},
   "source": [
    "---\n",
    "<a href=#four></a>\n",
    "## **Data Cleaning and Filtering**\n",
    "<a href=#cont>Back to Table of Contents</a>"
   ]
  },
  {
   "cell_type": "code",
   "execution_count": null,
   "id": "a99442ea-70a9-4423-993b-cc66571eb54e",
   "metadata": {},
   "outputs": [],
   "source": []
  },
  {
   "cell_type": "code",
   "execution_count": null,
   "id": "75d072c0-54f1-41e9-8a3a-c56ac96db05c",
   "metadata": {},
   "outputs": [],
   "source": []
  },
  {
   "cell_type": "code",
   "execution_count": null,
   "id": "0757c043-abd0-407a-ad43-88a10a073a14",
   "metadata": {},
   "outputs": [],
   "source": []
  },
  {
   "cell_type": "markdown",
   "id": "db9ad276-a8cc-4948-8f91-b8a4fa5ee434",
   "metadata": {},
   "source": [
    "---\n",
    "<a href=#five></a>\n",
    "## **Exploratory Data Analysis (EDA)**\n",
    "<a href=#cont>Back to Table of Contents</a>"
   ]
  },
  {
   "cell_type": "code",
   "execution_count": null,
   "id": "6ff6584f-85a1-42b4-b642-5c441fd3e5c8",
   "metadata": {},
   "outputs": [],
   "source": []
  },
  {
   "cell_type": "code",
   "execution_count": null,
   "id": "458689fc-b065-4627-a364-387602d29eb0",
   "metadata": {},
   "outputs": [],
   "source": []
  },
  {
   "cell_type": "code",
   "execution_count": null,
   "id": "c32e4677-6158-4087-b9be-62060d88d7b7",
   "metadata": {},
   "outputs": [],
   "source": []
  },
  {
   "cell_type": "markdown",
   "id": "c357bbc0-e8c0-4c97-af3e-7d7b1683476b",
   "metadata": {},
   "source": [
    "---\n",
    "<a href=#six></a>\n",
    "## **Modeling**\n",
    "<a href=#cont>Back to Table of Contents</a>"
   ]
  },
  {
   "cell_type": "code",
   "execution_count": 9,
   "id": "c9014c28-ff99-49c1-8491-32d7fedda7f0",
   "metadata": {},
   "outputs": [],
   "source": [
    "# Feature Selection: Select relevant features for modeling\n",
    "features = numeric_df.drop(columns=['total_emission'])\n",
    "target = numeric_df['total_emission']"
   ]
  },
  {
   "cell_type": "code",
   "execution_count": 10,
   "id": "4d8db3a5-a089-4f59-9b11-95e7a5d8e6cc",
   "metadata": {},
   "outputs": [],
   "source": [
    "# Split the data into training and testing sets\n",
    "X_train, X_test, y_train, y_test = train_test_split(features, target, test_size=0.2, random_state=42)"
   ]
  },
  {
   "cell_type": "code",
   "execution_count": 11,
   "id": "c255f682-7721-4d5d-9187-99d3a4dac5a6",
   "metadata": {},
   "outputs": [],
   "source": [
    "# Multiple Linear Regression\n",
    "linear_regressor = LinearRegression()\n",
    "linear_regressor.fit(X_train, y_train)\n",
    "y_pred_linear = linear_regressor.predict(X_test)"
   ]
  },
  {
   "cell_type": "code",
   "execution_count": 12,
   "id": "4b46f70e-3c8d-4a7a-99f6-e1ced0ae58f9",
   "metadata": {},
   "outputs": [],
   "source": [
    "# Decision Tree Regression\n",
    "tree_regressor = DecisionTreeRegressor(random_state=42)\n",
    "tree_regressor.fit(X_train, y_train)\n",
    "y_pred_tree = tree_regressor.predict(X_test)"
   ]
  },
  {
   "cell_type": "code",
   "execution_count": 13,
   "id": "bca432d0-c80b-48d0-82c6-508733e19246",
   "metadata": {},
   "outputs": [],
   "source": [
    "# Random Forest Regression\n",
    "forest_regressor = RandomForestRegressor(random_state=42)\n",
    "forest_regressor.fit(X_train, y_train)\n",
    "y_pred_forest = forest_regressor.predict(X_test)\n",
    "mse_forest = mean_squared_error(y_test, y_pred_forest)\n",
    "r2_forest = r2_score(y_test, y_pred_forest)"
   ]
  },
  {
   "cell_type": "code",
   "execution_count": 18,
   "id": "43a2c3d7-1d9a-47eb-acfd-0a991ada8d53",
   "metadata": {},
   "outputs": [
    {
     "ename": "NameError",
     "evalue": "name 'x' is not defined",
     "output_type": "error",
     "traceback": [
      "\u001b[1;31m---------------------------------------------------------------------------\u001b[0m",
      "\u001b[1;31mNameError\u001b[0m                                 Traceback (most recent call last)",
      "Cell \u001b[1;32mIn[18], line 6\u001b[0m\n\u001b[0;32m      3\u001b[0m forest_importances \u001b[38;5;241m=\u001b[39m forest_regressor\u001b[38;5;241m.\u001b[39mfeature_importances_\n\u001b[0;32m      5\u001b[0m \u001b[38;5;66;03m# Plot feature importances\u001b[39;00m\n\u001b[1;32m----> 6\u001b[0m features \u001b[38;5;241m=\u001b[39m x\u001b[38;5;241m.\u001b[39mcolumns\n\u001b[0;32m      7\u001b[0m indices \u001b[38;5;241m=\u001b[39m np\u001b[38;5;241m.\u001b[39margsort(forest_importances)[::\u001b[38;5;241m-\u001b[39m\u001b[38;5;241m1\u001b[39m]\n\u001b[0;32m      9\u001b[0m plt\u001b[38;5;241m.\u001b[39mfigure(figsize\u001b[38;5;241m=\u001b[39m(\u001b[38;5;241m15\u001b[39m, \u001b[38;5;241m10\u001b[39m))\n",
      "\u001b[1;31mNameError\u001b[0m: name 'x' is not defined"
     ]
    }
   ],
   "source": [
    "# Feature importances\n",
    "tree_importances = tree_regressor.feature_importances_\n",
    "forest_importances = forest_regressor.feature_importances_\n",
    "\n",
    "# Plot feature importances\n",
    "features = x.columns\n",
    "indices = np.argsort(forest_importances)[::-1]\n",
    "\n",
    "plt.figure(figsize=(15, 10))\n",
    "\n",
    "plt.subplot(2, 1, 1)\n",
    "plt.title(\"Feature Importances - Random Forest\")\n",
    "plt.bar(range(X.shape[1]), forest_importances[indices], align=\"center\")\n",
    "plt.xticks(range(X.shape[1]), features[indices], rotation=90)\n",
    "\n",
    "plt.subplot(2, 1, 2)\n",
    "plt.title(\"Feature Importances - Decision Tree\")\n",
    "plt.bar(range(X.shape[1]), tree_importances[indices], align=\"center\")\n",
    "plt.xticks(range(X.shape[1]), features[indices], rotation=90)\n",
    "\n",
    "plt.tight_layout()\n",
    "plt.show()"
   ]
  },
  {
   "cell_type": "code",
   "execution_count": 19,
   "id": "58687ab7-9a15-45cc-a7c0-d5ebd5aeda12",
   "metadata": {},
   "outputs": [],
   "source": [
    "# Evaluate and compare model performance\n",
    "def evaluate_model(y_test, y_pred, model_name):\n",
    "    mse = mean_squared_error(y_test, y_pred)\n",
    "    r2 = r2_score(y_test, y_pred)\n",
    "    print(f\"{model_name} - Mean Squared Error: {mse}, R^2 Score: {r2}\")"
   ]
  },
  {
   "cell_type": "code",
   "execution_count": 20,
   "id": "f5677942-ac66-4304-b945-a9ff4b1bf6a9",
   "metadata": {},
   "outputs": [
    {
     "name": "stdout",
     "output_type": "stream",
     "text": [
      "Multiple Linear Regression - Mean Squared Error: 5.3871848317771426e-17, R^2 Score: 1.0\n",
      "Decision Tree Regression - Mean Squared Error: 1141577675.9970527, R^2 Score: 0.9834969060266138\n",
      "Random Forest Regression - Mean Squared Error: 626956432.239349, R^2 Score: 0.9909364722734018\n"
     ]
    }
   ],
   "source": [
    "# Print model evaluation results\n",
    "evaluate_model(y_test, y_pred_linear, \"Multiple Linear Regression\")\n",
    "evaluate_model(y_test, y_pred_tree, \"Decision Tree Regression\")\n",
    "evaluate_model(y_test, y_pred_forest, \"Random Forest Regression\")"
   ]
  },
  {
   "cell_type": "markdown",
   "id": "31236aa0-ea1e-4d42-919b-5981104ebab4",
   "metadata": {},
   "source": [
    "---\n",
    "<a href=#seven></a>\n",
    "## **Evaluation and Validation**\n",
    "<a href=#cont>Back to Table of Contents</a>"
   ]
  },
  {
   "cell_type": "code",
   "execution_count": null,
   "id": "082dd863-1008-467d-9e19-898d5950a5c2",
   "metadata": {},
   "outputs": [],
   "source": []
  },
  {
   "cell_type": "code",
   "execution_count": null,
   "id": "e7837520-08b9-4d01-a2d0-6fddb6c4119e",
   "metadata": {},
   "outputs": [],
   "source": []
  },
  {
   "cell_type": "code",
   "execution_count": null,
   "id": "385c040b-5c35-4725-892c-287487fe1d7a",
   "metadata": {},
   "outputs": [],
   "source": []
  },
  {
   "cell_type": "markdown",
   "id": "aa0ffdd0-d48e-4f4d-9cbc-dbc8f24d354c",
   "metadata": {},
   "source": [
    "---\n",
    "<a href=#eight></a>\n",
    "## **Final Model**\n",
    "<a href=#cont>Back to Table of Contents</a>"
   ]
  },
  {
   "cell_type": "code",
   "execution_count": null,
   "id": "8a12d01d-5306-4e3e-b838-ff671a3d71ee",
   "metadata": {},
   "outputs": [],
   "source": []
  },
  {
   "cell_type": "code",
   "execution_count": null,
   "id": "ddfb07e1-ed7a-4208-a8f4-7c9d40d069d2",
   "metadata": {},
   "outputs": [],
   "source": []
  },
  {
   "cell_type": "code",
   "execution_count": null,
   "id": "8deb26d8-d148-427f-98ea-caa78fa80acf",
   "metadata": {},
   "outputs": [],
   "source": []
  },
  {
   "cell_type": "markdown",
   "id": "8fd3e093-6bc9-4bff-93d4-710eafd5ba24",
   "metadata": {},
   "source": [
    "---\n",
    "<a href=#nine></a>\n",
    "## **Conclusion**\n",
    "<a href=#cont>Back to Table of Contents</a>"
   ]
  },
  {
   "cell_type": "code",
   "execution_count": null,
   "id": "4b1b3c31-1636-4994-9689-6fe7921347db",
   "metadata": {},
   "outputs": [],
   "source": []
  },
  {
   "cell_type": "code",
   "execution_count": null,
   "id": "ae2475ba-bc0c-40c8-8fae-1b93074b5159",
   "metadata": {},
   "outputs": [],
   "source": []
  },
  {
   "cell_type": "code",
   "execution_count": null,
   "id": "a087f920-fdb7-4f73-a8d9-76817b608d84",
   "metadata": {},
   "outputs": [],
   "source": []
  }
 ],
 "metadata": {
  "kernelspec": {
   "display_name": "Python 3 (ipykernel)",
   "language": "python",
   "name": "python3"
  },
  "language_info": {
   "codemirror_mode": {
    "name": "ipython",
    "version": 3
   },
   "file_extension": ".py",
   "mimetype": "text/x-python",
   "name": "python",
   "nbconvert_exporter": "python",
   "pygments_lexer": "ipython3",
   "version": "3.12.9"
  }
 },
 "nbformat": 4,
 "nbformat_minor": 5
}
