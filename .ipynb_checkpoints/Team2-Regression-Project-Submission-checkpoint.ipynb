{
 "cells": [
  {
   "cell_type": "markdown",
   "metadata": {},
   "source": [
    "<img src=\"agri_image2.png\" alt=\"Sample Image\" width=\"900\" height=\"200\">"
   ]
  },
  {
   "cell_type": "markdown",
   "metadata": {},
   "source": [
    "## Table of Contents\n",
    "\n",
    "<a href=#BC> Background Context</a>\n",
    "\n",
    "<a href=#one>1. Importing Packages</a>\n",
    "\n",
    "<a href=#two>2. Data Collection and Description</a>\n",
    "\n",
    "<a href=#three>3. Loading Data </a>\n",
    "\n",
    "<a href=#four>4. Data Cleaning and Filtering</a>\n",
    "\n",
    "<a href=#five>5. Exploratory Data Analysis (EDA)</a>\n",
    "\n",
    "<a href=#six>6. Modeling </a>\n",
    "\n",
    "<a href=#seven>7. Evaluation and Validation</a>\n",
    "\n",
    "<a href=#eight>8. Final Model</a>\n",
    "\n",
    "<a href=#nine>9. Conclusion and Future Work</a>"
   ]
  },
  {
   "cell_type": "markdown",
   "metadata": {},
   "source": [
    "---\n",
    " <a id=\"BC\"></a>\n",
    "## **Background Context**\n",
    "<a href=#cont>Back to Table of Contents</a>\n",
    "\n",
    "* **Purpose:** Introduce the project, outline its goals, and explain its significance.\n",
    "* **Details:** Include information about the problem domain, the specific questions or challenges the project aims to address, and any relevant background information that sets the stage for the work.\n",
    "---"
   ]
  },
  {
   "cell_type": "markdown",
   "metadata": {},
   "source": [
    "<a href=#one></a>\n",
    "## **Importing Packages**\n",
    "<a href=#cont>Back to Table of Contents</a>"
   ]
  },
  {
   "cell_type": "code",
   "execution_count": 1,
   "metadata": {},
   "outputs": [],
   "source": [
    "import pandas as pd\n",
    "import numpy as np\n",
    "import matplotlib.pyplot as plt\n",
    "import seaborn as sns\n",
    "from sklearn.model_selection import train_test_split\n",
    "from sklearn.linear_model import LinearRegression\n",
    "from sklearn.tree import DecisionTreeRegressor\n",
    "from sklearn.ensemble import RandomForestRegressor\n",
    "from sklearn.metrics import mean_squared_error, r2_score"
   ]
  },
  {
   "cell_type": "markdown",
   "metadata": {},
   "source": [
    "---\n",
    "<a href=#three></a>\n",
    "## **Loading Data**\n",
    "<a href=#cont>Back to Table of Contents</a>"
   ]
  },
  {
   "cell_type": "code",
   "execution_count": 2,
   "metadata": {},
   "outputs": [
    {
     "data": {
      "text/html": [
       "<div>\n",
       "<style scoped>\n",
       "    .dataframe tbody tr th:only-of-type {\n",
       "        vertical-align: middle;\n",
       "    }\n",
       "\n",
       "    .dataframe tbody tr th {\n",
       "        vertical-align: top;\n",
       "    }\n",
       "\n",
       "    .dataframe thead th {\n",
       "        text-align: right;\n",
       "    }\n",
       "</style>\n",
       "<table border=\"1\" class=\"dataframe\">\n",
       "  <thead>\n",
       "    <tr style=\"text-align: right;\">\n",
       "      <th></th>\n",
       "      <th>Area</th>\n",
       "      <th>Year</th>\n",
       "      <th>Savanna fires</th>\n",
       "      <th>Forest fires</th>\n",
       "      <th>Crop Residues</th>\n",
       "      <th>Rice Cultivation</th>\n",
       "      <th>Drained organic soils (CO2)</th>\n",
       "      <th>Pesticides Manufacturing</th>\n",
       "      <th>Food Transport</th>\n",
       "      <th>Forestland</th>\n",
       "      <th>...</th>\n",
       "      <th>Manure Management</th>\n",
       "      <th>Fires in organic soils</th>\n",
       "      <th>Fires in humid tropical forests</th>\n",
       "      <th>On-farm energy use</th>\n",
       "      <th>Rural population</th>\n",
       "      <th>Urban population</th>\n",
       "      <th>Total Population - Male</th>\n",
       "      <th>Total Population - Female</th>\n",
       "      <th>total_emission</th>\n",
       "      <th>Average Temperature °C</th>\n",
       "    </tr>\n",
       "  </thead>\n",
       "  <tbody>\n",
       "    <tr>\n",
       "      <th>0</th>\n",
       "      <td>Afghanistan</td>\n",
       "      <td>1990</td>\n",
       "      <td>14.7237</td>\n",
       "      <td>0.0557</td>\n",
       "      <td>205.6077</td>\n",
       "      <td>686.00</td>\n",
       "      <td>0.0</td>\n",
       "      <td>11.807483</td>\n",
       "      <td>63.1152</td>\n",
       "      <td>-2388.803</td>\n",
       "      <td>...</td>\n",
       "      <td>319.1763</td>\n",
       "      <td>0.0</td>\n",
       "      <td>0.0</td>\n",
       "      <td>NaN</td>\n",
       "      <td>9655167.0</td>\n",
       "      <td>2593947.0</td>\n",
       "      <td>5348387.0</td>\n",
       "      <td>5346409.0</td>\n",
       "      <td>2198.963539</td>\n",
       "      <td>0.536167</td>\n",
       "    </tr>\n",
       "    <tr>\n",
       "      <th>1</th>\n",
       "      <td>Afghanistan</td>\n",
       "      <td>1991</td>\n",
       "      <td>14.7237</td>\n",
       "      <td>0.0557</td>\n",
       "      <td>209.4971</td>\n",
       "      <td>678.16</td>\n",
       "      <td>0.0</td>\n",
       "      <td>11.712073</td>\n",
       "      <td>61.2125</td>\n",
       "      <td>-2388.803</td>\n",
       "      <td>...</td>\n",
       "      <td>342.3079</td>\n",
       "      <td>0.0</td>\n",
       "      <td>0.0</td>\n",
       "      <td>NaN</td>\n",
       "      <td>10230490.0</td>\n",
       "      <td>2763167.0</td>\n",
       "      <td>5372959.0</td>\n",
       "      <td>5372208.0</td>\n",
       "      <td>2323.876629</td>\n",
       "      <td>0.020667</td>\n",
       "    </tr>\n",
       "    <tr>\n",
       "      <th>2</th>\n",
       "      <td>Afghanistan</td>\n",
       "      <td>1992</td>\n",
       "      <td>14.7237</td>\n",
       "      <td>0.0557</td>\n",
       "      <td>196.5341</td>\n",
       "      <td>686.00</td>\n",
       "      <td>0.0</td>\n",
       "      <td>11.712073</td>\n",
       "      <td>53.3170</td>\n",
       "      <td>-2388.803</td>\n",
       "      <td>...</td>\n",
       "      <td>349.1224</td>\n",
       "      <td>0.0</td>\n",
       "      <td>0.0</td>\n",
       "      <td>NaN</td>\n",
       "      <td>10995568.0</td>\n",
       "      <td>2985663.0</td>\n",
       "      <td>6028494.0</td>\n",
       "      <td>6028939.0</td>\n",
       "      <td>2356.304229</td>\n",
       "      <td>-0.259583</td>\n",
       "    </tr>\n",
       "    <tr>\n",
       "      <th>3</th>\n",
       "      <td>Afghanistan</td>\n",
       "      <td>1993</td>\n",
       "      <td>14.7237</td>\n",
       "      <td>0.0557</td>\n",
       "      <td>230.8175</td>\n",
       "      <td>686.00</td>\n",
       "      <td>0.0</td>\n",
       "      <td>11.712073</td>\n",
       "      <td>54.3617</td>\n",
       "      <td>-2388.803</td>\n",
       "      <td>...</td>\n",
       "      <td>352.2947</td>\n",
       "      <td>0.0</td>\n",
       "      <td>0.0</td>\n",
       "      <td>NaN</td>\n",
       "      <td>11858090.0</td>\n",
       "      <td>3237009.0</td>\n",
       "      <td>7003641.0</td>\n",
       "      <td>7000119.0</td>\n",
       "      <td>2368.470529</td>\n",
       "      <td>0.101917</td>\n",
       "    </tr>\n",
       "    <tr>\n",
       "      <th>4</th>\n",
       "      <td>Afghanistan</td>\n",
       "      <td>1994</td>\n",
       "      <td>14.7237</td>\n",
       "      <td>0.0557</td>\n",
       "      <td>242.0494</td>\n",
       "      <td>705.60</td>\n",
       "      <td>0.0</td>\n",
       "      <td>11.712073</td>\n",
       "      <td>53.9874</td>\n",
       "      <td>-2388.803</td>\n",
       "      <td>...</td>\n",
       "      <td>367.6784</td>\n",
       "      <td>0.0</td>\n",
       "      <td>0.0</td>\n",
       "      <td>NaN</td>\n",
       "      <td>12690115.0</td>\n",
       "      <td>3482604.0</td>\n",
       "      <td>7733458.0</td>\n",
       "      <td>7722096.0</td>\n",
       "      <td>2500.768729</td>\n",
       "      <td>0.372250</td>\n",
       "    </tr>\n",
       "  </tbody>\n",
       "</table>\n",
       "<p>5 rows × 31 columns</p>\n",
       "</div>"
      ],
      "text/plain": [
       "          Area  Year  Savanna fires  Forest fires  Crop Residues  \\\n",
       "0  Afghanistan  1990        14.7237        0.0557       205.6077   \n",
       "1  Afghanistan  1991        14.7237        0.0557       209.4971   \n",
       "2  Afghanistan  1992        14.7237        0.0557       196.5341   \n",
       "3  Afghanistan  1993        14.7237        0.0557       230.8175   \n",
       "4  Afghanistan  1994        14.7237        0.0557       242.0494   \n",
       "\n",
       "   Rice Cultivation  Drained organic soils (CO2)  Pesticides Manufacturing  \\\n",
       "0            686.00                          0.0                 11.807483   \n",
       "1            678.16                          0.0                 11.712073   \n",
       "2            686.00                          0.0                 11.712073   \n",
       "3            686.00                          0.0                 11.712073   \n",
       "4            705.60                          0.0                 11.712073   \n",
       "\n",
       "   Food Transport  Forestland           ...            Manure Management  \\\n",
       "0         63.1152   -2388.803           ...                     319.1763   \n",
       "1         61.2125   -2388.803           ...                     342.3079   \n",
       "2         53.3170   -2388.803           ...                     349.1224   \n",
       "3         54.3617   -2388.803           ...                     352.2947   \n",
       "4         53.9874   -2388.803           ...                     367.6784   \n",
       "\n",
       "   Fires in organic soils  Fires in humid tropical forests  \\\n",
       "0                     0.0                              0.0   \n",
       "1                     0.0                              0.0   \n",
       "2                     0.0                              0.0   \n",
       "3                     0.0                              0.0   \n",
       "4                     0.0                              0.0   \n",
       "\n",
       "   On-farm energy use  Rural population  Urban population  \\\n",
       "0                 NaN         9655167.0         2593947.0   \n",
       "1                 NaN        10230490.0         2763167.0   \n",
       "2                 NaN        10995568.0         2985663.0   \n",
       "3                 NaN        11858090.0         3237009.0   \n",
       "4                 NaN        12690115.0         3482604.0   \n",
       "\n",
       "   Total Population - Male  Total Population - Female  total_emission  \\\n",
       "0                5348387.0                  5346409.0     2198.963539   \n",
       "1                5372959.0                  5372208.0     2323.876629   \n",
       "2                6028494.0                  6028939.0     2356.304229   \n",
       "3                7003641.0                  7000119.0     2368.470529   \n",
       "4                7733458.0                  7722096.0     2500.768729   \n",
       "\n",
       "   Average Temperature °C  \n",
       "0                0.536167  \n",
       "1                0.020667  \n",
       "2               -0.259583  \n",
       "3                0.101917  \n",
       "4                0.372250  \n",
       "\n",
       "[5 rows x 31 columns]"
      ]
     },
     "execution_count": 2,
     "metadata": {},
     "output_type": "execute_result"
    }
   ],
   "source": [
    "#Importing the data\n",
    "df = pd.read_csv(\"co2_emissions_from_agri.csv\")\n",
    "#Show preview of data\n",
    "df.head()"
   ]
  },
  {
   "cell_type": "markdown",
   "metadata": {},
   "source": [
    "---\n",
    "<a href=#four></a>\n",
    "## **Data Cleaning and Filtering**\n",
    "<a href=#cont>Back to Table of Contents</a>"
   ]
  },
  {
   "cell_type": "code",
   "execution_count": 3,
   "metadata": {},
   "outputs": [],
   "source": [
    "# Standardize column names\n",
    "df.columns = df.columns.str.strip().str.lower().str.replace(' ', '_').str.replace('(', '').str.replace(')', '')"
   ]
  },
  {
   "cell_type": "code",
   "execution_count": 4,
   "metadata": {},
   "outputs": [],
   "source": [
    "# Convert year to integer\n",
    "df['year'] = df['year'].astype(int)\n",
    "\n",
    "# Convert population columns to integer\n",
    "population_columns = ['rural_population', 'urban_population', 'total_population_-_male', 'total_population_-_female']\n",
    "for column in population_columns:\n",
    "    df[column] = df[column].astype(int)\n"
   ]
  },
  {
   "cell_type": "code",
   "execution_count": 5,
   "metadata": {},
   "outputs": [],
   "source": [
    "# Ensure each row is a unique country-year observation\n",
    "df.drop_duplicates(subset=['area', 'year'], inplace=True)"
   ]
  },
  {
   "cell_type": "code",
   "execution_count": 6,
   "metadata": {},
   "outputs": [],
   "source": [
    "# Fill missing values: 0 for numeric columns, 'Unknown' for object (text) columns\n",
    "for column in df.columns:\n",
    "    if df[column].dtype == 'object':\n",
    "        df[column] = df[column].fillna('Unknown')\n",
    "    else:\n",
    "        df[column] = df[column].fillna(0)"
   ]
  },
  {
   "cell_type": "markdown",
   "metadata": {},
   "source": [
    "---\n",
    "<a href=#five></a>\n",
    "## **Exploratory Data Analysis (EDA)**\n",
    "<a href=#cont>Back to Table of Contents</a>"
   ]
  },
  {
   "cell_type": "code",
   "execution_count": 7,
   "metadata": {},
   "outputs": [
    {
     "data": {
      "image/png": "[encoded data removed]",
      "text/plain": [
       "<matplotlib.figure.Figure at 0xa55bf90>"
      ]
     },
     "metadata": {},
     "output_type": "display_data"
    }
   ],
   "source": [
    "# Top 25 countries with highest average total emissions\n",
    "avg_emissions = df.groupby('area')['total_emission'].mean().sort_values(ascending=False).head(25)\n",
    "plt.figure(figsize=(12, 8))\n",
    "sns.barplot(x=avg_emissions.values, y=avg_emissions.index, palette='viridis')\n",
    "plt.title('Top 25 Countries with Highest Average Total Emissions')\n",
    "plt.xlabel('Average Total Emissions')\n",
    "plt.ylabel('Country')\n",
    "plt.show()\n",
    "\n",
    "#Top 25 Countries by Average Emissions. Identify which countries contribute most to emissions on average"
   ]
  },
  {
   "cell_type": "code",
   "execution_count": 8,
   "metadata": {},
   "outputs": [
    {
     "ename": "AttributeError",
     "evalue": "module 'seaborn' has no attribute 'histplot'",
     "output_type": "error",
     "traceback": [
      "\u001b[1;31m---------------------------------------------------------------------------\u001b[0m",
      "\u001b[1;31mAttributeError\u001b[0m                            Traceback (most recent call last)",
      "\u001b[1;32m<ipython-input-8-53674d18da90>\u001b[0m in \u001b[0;36m<module>\u001b[1;34m()\u001b[0m\n\u001b[0;32m      1\u001b[0m \u001b[0mplt\u001b[0m\u001b[1;33m.\u001b[0m\u001b[0mfigure\u001b[0m\u001b[1;33m(\u001b[0m\u001b[0mfigsize\u001b[0m\u001b[1;33m=\u001b[0m\u001b[1;33m(\u001b[0m\u001b[1;36m10\u001b[0m\u001b[1;33m,\u001b[0m \u001b[1;36m6\u001b[0m\u001b[1;33m)\u001b[0m\u001b[1;33m)\u001b[0m\u001b[1;33m\u001b[0m\u001b[0m\n\u001b[1;32m----> 2\u001b[1;33m \u001b[0msns\u001b[0m\u001b[1;33m.\u001b[0m\u001b[0mhistplot\u001b[0m\u001b[1;33m(\u001b[0m\u001b[0mdf\u001b[0m\u001b[1;33m[\u001b[0m\u001b[1;34m'total_emission'\u001b[0m\u001b[1;33m]\u001b[0m\u001b[1;33m,\u001b[0m \u001b[0mkde\u001b[0m\u001b[1;33m=\u001b[0m\u001b[1;32mTrue\u001b[0m\u001b[1;33m,\u001b[0m \u001b[0mbins\u001b[0m\u001b[1;33m=\u001b[0m\u001b[1;36m30\u001b[0m\u001b[1;33m)\u001b[0m\u001b[1;33m\u001b[0m\u001b[0m\n\u001b[0m\u001b[0;32m      3\u001b[0m \u001b[0mplt\u001b[0m\u001b[1;33m.\u001b[0m\u001b[0mtitle\u001b[0m\u001b[1;33m(\u001b[0m\u001b[1;34m'Distribution of Total Emissions'\u001b[0m\u001b[1;33m)\u001b[0m\u001b[1;33m\u001b[0m\u001b[0m\n\u001b[0;32m      4\u001b[0m \u001b[0mplt\u001b[0m\u001b[1;33m.\u001b[0m\u001b[0mxlabel\u001b[0m\u001b[1;33m(\u001b[0m\u001b[1;34m'Total Emissions'\u001b[0m\u001b[1;33m)\u001b[0m\u001b[1;33m\u001b[0m\u001b[0m\n\u001b[0;32m      5\u001b[0m \u001b[0mplt\u001b[0m\u001b[1;33m.\u001b[0m\u001b[0mylabel\u001b[0m\u001b[1;33m(\u001b[0m\u001b[1;34m'Frequency'\u001b[0m\u001b[1;33m)\u001b[0m\u001b[1;33m\u001b[0m\u001b[0m\n",
      "\u001b[1;31mAttributeError\u001b[0m: module 'seaborn' has no attribute 'histplot'"
     ]
    },
    {
     "data": {
      "text/plain": [
       "<matplotlib.figure.Figure at 0x1629610>"
      ]
     },
     "metadata": {},
     "output_type": "display_data"
    }
   ],
   "source": [
    "plt.figure(figsize=(10, 6))\n",
    "sns.histplot(df['total_emission'], kde=True, bins=30)\n",
    "plt.title('Distribution of Total Emissions')\n",
    "plt.xlabel('Total Emissions')\n",
    "plt.ylabel('Frequency')\n",
    "plt.grid(True)\n",
    "plt.tight_layout()\n",
    "plt.show()"
   ]
  },
  {
   "cell_type": "code",
   "execution_count": 9,
   "metadata": {},
   "outputs": [
    {
     "data": {
      "image/png": "[encoded data removed]",
      "text/plain": [
       "<matplotlib.figure.Figure at 0xd7446b0>"
      ]
     },
     "metadata": {},
     "output_type": "display_data"
    }
   ],
   "source": [
    "import pandas as pd\n",
    "import matplotlib.pyplot as plt\n",
    "\n",
    "# Load the dataset\n",
    "df = pd.read_csv('co2_emissions_from_agri.csv')\n",
    "\n",
    "# Selected countries\n",
    "selected_countries = ['Canada', 'Mexico', 'Germany', 'Myanmar', 'Malaysia']\n",
    "\n",
    "# Plot total emissions over time\n",
    "plt.figure(figsize=(14, 7))\n",
    "for country in selected_countries:\n",
    "    country_data = df[df['Area'] == country]\n",
    "    plt.plot(country_data['Year'], country_data['total_emission'], label=country)\n",
    "\n",
    "plt.xlabel('Year')\n",
    "plt.ylabel('Total Emissions')\n",
    "plt.title('Total Emissions Over Time by Country')\n",
    "plt.legend()\n",
    "plt.grid(True)\n",
    "plt.tight_layout()\n",
    "plt.show()"
   ]
  },
  {
   "cell_type": "code",
   "execution_count": 10,
   "metadata": {},
   "outputs": [
    {
     "name": "stdout",
     "output_type": "stream",
     "text": [
      "Summary statistics:\n",
      "               Year  Savanna fires  Forest fires  Crop Residues  \\\n",
      "count  6965.000000    6934.000000   6872.000000    5576.000000   \n",
      "mean   2005.124910    1188.390893    919.302167     998.706309   \n",
      "std       8.894665    5246.287783   3720.078752    3700.345330   \n",
      "min    1990.000000       0.000000      0.000000       0.000200   \n",
      "25%    1997.000000       0.000000      0.000000      11.006525   \n",
      "50%    2005.000000       1.651850      0.517900     103.698200   \n",
      "75%    2013.000000     111.081400     64.950775     377.640975   \n",
      "max    2020.000000  114616.401100  52227.630600   33490.074100   \n",
      "\n",
      "       Rice Cultivation  Drained organic soils (CO2)  \\\n",
      "count       6965.000000                  6965.000000   \n",
      "mean        4259.666673                  3503.228636   \n",
      "std        17613.825187                 15861.445678   \n",
      "min            0.000000                     0.000000   \n",
      "25%          181.260800                     0.000000   \n",
      "50%          534.817400                     0.000000   \n",
      "75%         1536.640000                   690.408800   \n",
      "max       164915.255600                241025.069600   \n",
      "\n",
      "       Pesticides Manufacturing  Food Transport     Forestland  \\\n",
      "count               6965.000000     6965.000000    6472.000000   \n",
      "mean                 333.418393     1939.581760  -17828.285678   \n",
      "std                 1429.159367     5616.748808   81832.210543   \n",
      "min                    0.000000        0.000100 -797183.079000   \n",
      "25%                    6.000000       27.958600   -2848.350000   \n",
      "50%                   13.000000      204.962800     -62.920000   \n",
      "75%                  116.325487     1207.000900       0.000000   \n",
      "max                16459.000000    67945.765000  171121.076000   \n",
      "\n",
      "       Net Forest conversion           ...            Manure Management  \\\n",
      "count           6.472000e+03           ...                  6037.000000   \n",
      "mean            1.760564e+04           ...                  2263.344946   \n",
      "std             1.011575e+05           ...                  7980.542461   \n",
      "min             0.000000e+00           ...                     0.432900   \n",
      "25%             0.000000e+00           ...                    37.632100   \n",
      "50%             4.444000e+01           ...                   269.856300   \n",
      "75%             4.701746e+03           ...                  1126.818900   \n",
      "max             1.605106e+06           ...                 70592.646500   \n",
      "\n",
      "       Fires in organic soils  Fires in humid tropical forests  \\\n",
      "count             6965.000000                      6810.000000   \n",
      "mean              1210.315532                       668.452931   \n",
      "std              22669.847760                      3264.879486   \n",
      "min                  0.000000                         0.000000   \n",
      "25%                  0.000000                         0.000000   \n",
      "50%                  0.000000                         0.000000   \n",
      "75%                  0.000000                         9.577875   \n",
      "max             991717.543100                     51771.256800   \n",
      "\n",
      "       On-farm energy use  Rural population  Urban population  \\\n",
      "count         6009.000000      6.965000e+03      6.965000e+03   \n",
      "mean          3008.982252      1.785774e+07      1.693230e+07   \n",
      "std          12637.864430      8.901521e+07      6.574362e+07   \n",
      "min              0.031900      0.000000e+00      0.000000e+00   \n",
      "25%             13.291900      9.731100e+04      2.173860e+05   \n",
      "50%            141.096300      1.595322e+06      2.357581e+06   \n",
      "75%           1136.925400      8.177340e+06      8.277123e+06   \n",
      "max         248879.176900      9.000991e+08      9.020778e+08   \n",
      "\n",
      "       Total Population - Male  Total Population - Female  total_emission  \\\n",
      "count             6.965000e+03               6.965000e+03    6.965000e+03   \n",
      "mean              1.761963e+07               1.732447e+07    6.409124e+04   \n",
      "std               7.603993e+07               7.251711e+07    2.283130e+05   \n",
      "min               2.500000e+02               2.700000e+02   -3.918841e+05   \n",
      "25%               2.013260e+05               2.078900e+05    5.221244e+03   \n",
      "50%               2.469660e+06               2.444135e+06    1.214765e+04   \n",
      "75%               9.075924e+06               9.112588e+06    3.513973e+04   \n",
      "max               7.435866e+08               7.133419e+08    3.115114e+06   \n",
      "\n",
      "       Average Temperature °C  \n",
      "count             6965.000000  \n",
      "mean                 0.872989  \n",
      "std                  0.555930  \n",
      "min                 -1.415833  \n",
      "25%                  0.511333  \n",
      "50%                  0.834300  \n",
      "75%                  1.206750  \n",
      "max                  3.558083  \n",
      "\n",
      "[8 rows x 30 columns]\n"
     ]
    }
   ],
   "source": [
    "# Cell 6: Exploratory Data Analysis (EDA) - Summary statistics\n",
    "summary_stats = df.describe()\n",
    "print(\"Summary statistics:\\n\", summary_stats)\n"
   ]
  },
  {
   "cell_type": "code",
   "execution_count": 11,
   "metadata": {},
   "outputs": [
    {
     "data": {
      "image/png": "[encoded data removed]",
      "text/plain": [
       "<matplotlib.figure.Figure at 0xd7444b0>"
      ]
     },
     "metadata": {},
     "output_type": "display_data"
    }
   ],
   "source": [
    "# Cell 9: EDA - Identify patterns (Total Emissions vs. Average Temperature)\n",
    "plt.figure(figsize=(12, 6))\n",
    "plt.scatter(df['Average Temperature °C'], df['total_emission'], c='blue', label='Area')\n",
    "plt.title('Total Emissions vs. Average Temperature')\n",
    "plt.xlabel('Average Temperature (°C)')\n",
    "plt.ylabel('Total Emissions')\n",
    "plt.legend(bbox_to_anchor=(1.05, 1), loc='upper left')\n",
    "plt.show()\n"
   ]
  },
  {
   "cell_type": "code",
   "execution_count": null,
   "metadata": {},
   "outputs": [],
   "source": []
  },
  {
   "cell_type": "markdown",
   "metadata": {},
   "source": [
    "---\n",
    "<a href=#six></a>\n",
    "## **Modeling**\n",
    "<a href=#cont>Back to Table of Contents</a>"
   ]
  },
  {
   "cell_type": "code",
   "execution_count": 15,
   "metadata": {},
   "outputs": [
    {
     "ename": "NameError",
     "evalue": "name 'numeric_df' is not defined",
     "output_type": "error",
     "traceback": [
      "\u001b[1;31m---------------------------------------------------------------------------\u001b[0m",
      "\u001b[1;31mNameError\u001b[0m                                 Traceback (most recent call last)",
      "Cell \u001b[1;32mIn[15], line 2\u001b[0m\n\u001b[0;32m      1\u001b[0m \u001b[38;5;66;03m# Feature Selection: Select relevant features for modeling\u001b[39;00m\n\u001b[1;32m----> 2\u001b[0m features \u001b[38;5;241m=\u001b[39m numeric_df\u001b[38;5;241m.\u001b[39mdrop(columns\u001b[38;5;241m=\u001b[39m[\u001b[38;5;124m'\u001b[39m\u001b[38;5;124mtotal_emission\u001b[39m\u001b[38;5;124m'\u001b[39m])\n\u001b[0;32m      3\u001b[0m target \u001b[38;5;241m=\u001b[39m numeric_df[\u001b[38;5;124m'\u001b[39m\u001b[38;5;124mtotal_emission\u001b[39m\u001b[38;5;124m'\u001b[39m]\n",
      "\u001b[1;31mNameError\u001b[0m: name 'numeric_df' is not defined"
     ]
    }
   ],
   "source": [
    "# Feature Selection: Select relevant features for modeling\n",
    "features = numeric_df.drop(columns=['total_emission'])\n",
    "target = numeric_df['total_emission']"
   ]
  },
  {
   "cell_type": "code",
   "execution_count": null,
   "metadata": {},
   "outputs": [],
   "source": [
    "# Split the data into training and testing sets\n",
    "X_train, X_test, y_train, y_test = train_test_split(features, target, test_size=0.2, random_state=42)"
   ]
  },
  {
   "cell_type": "code",
   "execution_count": null,
   "metadata": {},
   "outputs": [],
   "source": [
    "# Multiple Linear Regression\n",
    "linear_regressor = LinearRegression()\n",
    "linear_regressor.fit(X_train, y_train)\n",
    "y_pred_linear = linear_regressor.predict(X_test)"
   ]
  },
  {
   "cell_type": "code",
   "execution_count": null,
   "metadata": {},
   "outputs": [],
   "source": [
    "# Decision Tree Regression\n",
    "tree_regressor = DecisionTreeRegressor(random_state=42)\n",
    "tree_regressor.fit(X_train, y_train)\n",
    "y_pred_tree = tree_regressor.predict(X_test)"
   ]
  },
  {
   "cell_type": "code",
   "execution_count": null,
   "metadata": {},
   "outputs": [],
   "source": [
    "# Random Forest Regression\n",
    "forest_regressor = RandomForestRegressor(random_state=42)\n",
    "forest_regressor.fit(X_train, y_train)\n",
    "y_pred_forest = forest_regressor.predict(X_test)\n",
    "mse_forest = mean_squared_error(y_test, y_pred_forest)\n",
    "r2_forest = r2_score(y_test, y_pred_forest)"
   ]
  },
  {
   "cell_type": "code",
   "execution_count": null,
   "metadata": {},
   "outputs": [],
   "source": [
    "# Feature importances\n",
    "tree_importances = tree_regressor.feature_importances_\n",
    "forest_importances = forest_regressor.feature_importances_\n",
    "\n",
    "# Plot feature importances\n",
    "features = x.columns\n",
    "indices = np.argsort(forest_importances)[::-1]\n",
    "\n",
    "plt.figure(figsize=(15, 10))\n",
    "\n",
    "plt.subplot(2, 1, 1)\n",
    "plt.title(\"Feature Importances - Random Forest\")\n",
    "plt.bar(range(X.shape[1]), forest_importances[indices], align=\"center\")\n",
    "plt.xticks(range(X.shape[1]), features[indices], rotation=90)\n",
    "\n",
    "plt.subplot(2, 1, 2)\n",
    "plt.title(\"Feature Importances - Decision Tree\")\n",
    "plt.bar(range(X.shape[1]), tree_importances[indices], align=\"center\")\n",
    "plt.xticks(range(X.shape[1]), features[indices], rotation=90)\n",
    "\n",
    "plt.tight_layout()\n",
    "plt.show()"
   ]
  },
  {
   "cell_type": "code",
   "execution_count": null,
   "metadata": {},
   "outputs": [],
   "source": [
    "# Evaluate and compare model performance\n",
    "def evaluate_model(y_test, y_pred, model_name):\n",
    "    mse = mean_squared_error(y_test, y_pred)\n",
    "    r2 = r2_score(y_test, y_pred)\n",
    "    print(f\"{model_name} - Mean Squared Error: {mse}, R^2 Score: {r2}\")"
   ]
  },
  {
   "cell_type": "code",
   "execution_count": null,
   "metadata": {},
   "outputs": [],
   "source": [
    "# Print model evaluation results\n",
    "evaluate_model(y_test, y_pred_linear, \"Multiple Linear Regression\")\n",
    "evaluate_model(y_test, y_pred_tree, \"Decision Tree Regression\")\n",
    "evaluate_model(y_test, y_pred_forest, \"Random Forest Regression\")"
   ]
  },
  {
   "cell_type": "markdown",
   "metadata": {},
   "source": [
    "---\n",
    "<a href=#seven></a>\n",
    "## **Evaluation and Validation**\n",
    "<a href=#cont>Back to Table of Contents</a>"
   ]
  },
  {
   "cell_type": "code",
   "execution_count": null,
   "metadata": {},
   "outputs": [],
   "source": []
  },
  {
   "cell_type": "code",
   "execution_count": null,
   "metadata": {},
   "outputs": [],
   "source": []
  },
  {
   "cell_type": "code",
   "execution_count": null,
   "metadata": {},
   "outputs": [],
   "source": []
  },
  {
   "cell_type": "markdown",
   "metadata": {},
   "source": [
    "---\n",
    "<a href=#eight></a>\n",
    "## **Final Model**\n",
    "<a href=#cont>Back to Table of Contents</a>"
   ]
  },
  {
   "cell_type": "code",
   "execution_count": null,
   "metadata": {},
   "outputs": [],
   "source": []
  },
  {
   "cell_type": "code",
   "execution_count": null,
   "metadata": {},
   "outputs": [],
   "source": []
  },
  {
   "cell_type": "code",
   "execution_count": null,
   "metadata": {},
   "outputs": [],
   "source": []
  },
  {
   "cell_type": "markdown",
   "metadata": {},
   "source": [
    "---\n",
    "<a href=#nine></a>\n",
    "## **Conclusion**\n",
    "<a href=#cont>Back to Table of Contents</a>"
   ]
  },
  {
   "cell_type": "code",
   "execution_count": null,
   "metadata": {},
   "outputs": [],
   "source": []
  },
  {
   "cell_type": "code",
   "execution_count": null,
   "metadata": {},
   "outputs": [],
   "source": []
  },
  {
   "cell_type": "code",
   "execution_count": null,
   "metadata": {},
   "outputs": [],
   "source": []
  }
 ],
 "metadata": {
  "kernelspec": {
   "display_name": "Python 3",
   "language": "python",
   "name": "python3"
  },
  "language_info": {
   "codemirror_mode": {
    "name": "ipython",
    "version": 3
   },
   "file_extension": ".py",
   "mimetype": "text/x-python",
   "name": "python",
   "nbconvert_exporter": "python",
   "pygments_lexer": "ipython3",
   "version": "3.6.4"
  }
 },
 "nbformat": 4,
 "nbformat_minor": 5
}
